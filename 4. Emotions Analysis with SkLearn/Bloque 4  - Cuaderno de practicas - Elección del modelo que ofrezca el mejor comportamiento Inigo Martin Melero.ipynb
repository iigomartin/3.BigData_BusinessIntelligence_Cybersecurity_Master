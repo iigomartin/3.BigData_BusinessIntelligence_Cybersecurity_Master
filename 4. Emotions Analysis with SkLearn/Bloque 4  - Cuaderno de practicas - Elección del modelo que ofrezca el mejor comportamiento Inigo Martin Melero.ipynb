{
 "cells": [
  {
   "cell_type": "markdown",
   "metadata": {},
   "source": [
    "# Caso de estudio: Análisis de sentimiento\n",
    "\n",
    "En este ejercicio se usará la librería sklearn con el fin de evaluar los modelos creados en el bloque 3 para predecir el sentimiento de las opiniones del dataset: positivo o negativo.\n",
    "\n",
    "Se deberá partir de los modelos creados en el bloque *Modelos de predicción de la emoción*. Para ello, puedes incorporar el código de la actividad anterior (preguntas 1 a 6) antes de comenzar con la resolución de las preguntas de este bloque."
   ]
  },
  {
   "cell_type": "code",
   "execution_count": 1,
   "metadata": {},
   "outputs": [
    {
     "name": "stderr",
     "output_type": "stream",
     "text": [
      "C:\\Users\\inima\\anaconda3\\lib\\site-packages\\sklearn\\linear_model\\_logistic.py:763: ConvergenceWarning: lbfgs failed to converge (status=1):\n",
      "STOP: TOTAL NO. of ITERATIONS REACHED LIMIT.\n",
      "\n",
      "Increase the number of iterations (max_iter) or scale the data as shown in:\n",
      "    https://scikit-learn.org/stable/modules/preprocessing.html\n",
      "Please also refer to the documentation for alternative solver options:\n",
      "    https://scikit-learn.org/stable/modules/linear_model.html#logistic-regression\n",
      "  n_iter_i = _check_optimize_result(\n"
     ]
    }
   ],
   "source": [
    "#Incorporamos el codigo del Bloque 3\n",
    "import pandas as pd\n",
    "import numpy as np\n",
    "file_path = './Amazon_Unlocked_Mobile.csv' #Ponemos este fichero en la carpeta del Bloque 4 tambien\n",
    "df = pd.read_csv(file_path) \n",
    "df = df.sample(frac=0.1, random_state=10)\n",
    "df.dropna(inplace=True)\n",
    "df2=df.drop(df[df.Rating == 3].index)\n",
    "df2.loc[df2['Rating'] < 3, 'Sentimiento'] = 0 \n",
    "df2.loc[df2['Rating'] > 3, 'Sentimiento'] = 1\n",
    "from sklearn.model_selection import train_test_split\n",
    "x_train, x_test, y_train, y_test = train_test_split(df2[['Product Name','Brand Name','Price',\n",
    "                                                         'Rating','Reviews','Review Votes']],df2['Sentimiento'],test_size=0.3)\n",
    "from sklearn.feature_extraction.text import CountVectorizer\n",
    "vectorizer = CountVectorizer()\n",
    "x_train_matrix = vectorizer.fit_transform(x_train['Reviews'])\n",
    "x_test_matrix = vectorizer.transform(x_test['Reviews'])\n",
    "\n",
    "#Modelo Naive Bayes\n",
    "from sklearn.naive_bayes import MultinomialNB\n",
    "clfrNB = MultinomialNB()\n",
    "clfrNB.fit(x_train_matrix, y_train)\n",
    "predicted_labels = clfrNB.predict(x_test_matrix.toarray())\n",
    "\n",
    "#Modelo Logistic Regression\n",
    "from sklearn.linear_model import LogisticRegression\n",
    "classifier = LogisticRegression()\n",
    "classifier.fit(x_train_matrix, y_train)\n",
    "predicted_labels2 = classifier.predict(x_test_matrix.toarray())\n",
    "\n",
    "#Modelo SVM\n",
    "from sklearn import svm\n",
    "clfrSVM = svm.SVC(kernel='linear', C=0.1)\n",
    "clfrSVM.fit(x_train_matrix, y_train)\n",
    "predicted_labels3 = clfrSVM.predict(x_test_matrix.toarray())"
   ]
  },
  {
   "cell_type": "markdown",
   "metadata": {},
   "source": [
    "## Pregunta 1\n",
    "### Matriz de confusión de los modelos de clasificación (2,25 puntos)\n",
    "\n",
    "Debes mostrar por pantalla la matriz de confusión de los modelos de los modelos de Naive Bayes, Regresión logística y SVM utilizados en el cuaderno de prácticas del bloque tres. \n",
    "\n",
    "*Debes evaluar los modelos utilizados en las preguntas 4, 5 y 6 del cuaderno de prácticas del bloque 3*"
   ]
  },
  {
   "cell_type": "code",
   "execution_count": 4,
   "metadata": {},
   "outputs": [
    {
     "name": "stdout",
     "output_type": "stream",
     "text": [
      "Matriz de confusión Naive bayes: \n",
      "[[1814  520]\n",
      " [ 232 6656]]\n",
      "Matriz de confusión Regresión logística: \n",
      "[[1906  428]\n",
      " [ 226 6662]]\n",
      "Matriz de confusión SVM: \n",
      "[[1882  452]\n",
      " [ 224 6664]]\n"
     ]
    }
   ],
   "source": [
    "from sklearn.metrics import confusion_matrix\n",
    "#Para estas cosas, empleamos las comparaciones del y_test con las predicted labels de cada modelo.\n",
    "#Predicted labels1 corresponde a Naive Vayes, Predicted labels2 corresponde a Regresion Logistica y Predicted labels3\n",
    "#corresponde a SVM.\n",
    "print('Matriz de confusión Naive bayes: ')\n",
    "print(confusion_matrix(y_test, predicted_labels))\n",
    "print('Matriz de confusión Regresión logística: ')\n",
    "print(confusion_matrix(y_test, predicted_labels2))\n",
    "print('Matriz de confusión SVM: ')\n",
    "print(confusion_matrix(y_test, predicted_labels3))"
   ]
  },
  {
   "cell_type": "markdown",
   "metadata": {},
   "source": [
    "## Pregunta 2\n",
    "### Tasa de acierto de los modelos de clasificación (2,25 puntos)\n",
    "\n",
    "A continuación debes calcular la tasa de acierto de los modelos de Naive Bayes, Regresión logística y SVM utilizados en el cuaderno de prácticas del bloque tres. \n",
    "\n",
    "*Debes evaluar los modelos utilizados en las preguntas 4, 5 y 6 del cuaderno de prácticas del bloque 3*"
   ]
  },
  {
   "cell_type": "code",
   "execution_count": 5,
   "metadata": {},
   "outputs": [
    {
     "name": "stdout",
     "output_type": "stream",
     "text": [
      "AUC Naive bayes: \n",
      "0.9184558664064194\n",
      "AUC Regresión Logística: \n",
      "0.9290826284970722\n",
      "AUC SVM: \n",
      "0.9266970288440686\n"
     ]
    }
   ],
   "source": [
    "from sklearn.metrics import accuracy_score\n",
    "#Para estas cosas, empleamos las comparaciones del y_test con las predicted labels de cada modelo.\n",
    "#Predicted labels1 corresponde a Naive Vayes, Predicted labels2 corresponde a Regresion Logistica y Predicted labels3\n",
    "#corresponde a SVM.\n",
    "print('AUC Naive bayes: ')\n",
    "print(accuracy_score(y_test,predicted_labels))\n",
    "print('AUC Regresión Logística: ')\n",
    "print(accuracy_score(y_test,predicted_labels2))\n",
    "print('AUC SVM: ')\n",
    "print(accuracy_score(y_test,predicted_labels3))"
   ]
  },
  {
   "cell_type": "markdown",
   "metadata": {},
   "source": [
    "## Pregunta 3 \n",
    "### Métricas precision, recall y f1-score de los modelos (2,25 puntos)\n",
    "\n",
    "Calcula las métricas precision, recall y f1-score de los modelos de Naive Bayes, Regresión logística y SVM utilizados en el cuaderno de prácticas del bloque tres. \n",
    "\n",
    "*Debes evaluar los modelos utilizados en las preguntas 4, 5 y 6 del cuaderno de prácticas del bloque 3*"
   ]
  },
  {
   "cell_type": "code",
   "execution_count": 6,
   "metadata": {},
   "outputs": [
    {
     "name": "stdout",
     "output_type": "stream",
     "text": [
      "\tPrecision NB;\n",
      "0.927536231884058\n",
      "\tRecall NB:\n",
      "0.9663182346109176\n",
      "\tF1 score micro NB: \n",
      "0.9465301478953356\n",
      "\tPrecision RL:\n",
      "0.9396332863187589\n",
      "\tRecall RL:\n",
      "0.9671893147502904\n",
      "\tF1 score micro RL:\n",
      "0.9532121905852053\n",
      "\tPrecision SVM;\n",
      "0.9364811691961776\n",
      "\tRecall SVM:\n",
      "0.9364811691961776\n",
      "\tF1 score micro SVM:\n",
      "0.9364811691961776\n"
     ]
    }
   ],
   "source": [
    "from sklearn.metrics import f1_score\n",
    "from sklearn.metrics import recall_score\n",
    "from sklearn.metrics import precision_score\n",
    "\n",
    "\n",
    "print('\\tPrecision NB;' )\n",
    "print(precision_score(y_test,predicted_labels))\n",
    "print('\\tRecall NB:' )\n",
    "print(recall_score(y_test,predicted_labels))\n",
    "print('\\tF1 score micro NB: ' )\n",
    "print(f1_score(y_test,predicted_labels))\n",
    "\n",
    "print('\\tPrecision RL:')\n",
    "print(precision_score(y_test,predicted_labels2))\n",
    "print('\\tRecall RL:' )\n",
    "print(recall_score(y_test,predicted_labels2))\n",
    "print('\\tF1 score micro RL:' )\n",
    "print(f1_score(y_test,predicted_labels2))\n",
    "\n",
    "print('\\tPrecision SVM;' )\n",
    "print(precision_score(y_test,predicted_labels3))\n",
    "print('\\tRecall SVM:' )\n",
    "print(precision_score(y_test,predicted_labels3))\n",
    "print('\\tF1 score micro SVM:' )\n",
    "print(precision_score(y_test,predicted_labels3))"
   ]
  },
  {
   "cell_type": "markdown",
   "metadata": {},
   "source": [
    "## Pregunta 4 \n",
    "### Selección del modelo más óptimo (1 punto)\n",
    "\n",
    "Atendiendo a las métricas obtenidas para cada uno de los modelos, indica cuál es el modelo que utilizarías para predecir el sentimiento de las opiniones en un sistema en producción. Por favor, justifica tu respuesta."
   ]
  },
  {
   "cell_type": "code",
   "execution_count": 7,
   "metadata": {},
   "outputs": [
    {
     "name": "stdout",
     "output_type": "stream",
     "text": [
      "El modelo seleccionado es:\n",
      "Todos los modelos ofrecen resultados bastante buenos y similares. Sin embargo, la REGRESION LOGISTICA es un poco mejor\n",
      "que el resto:\n",
      "- Ofrece la tasa de acierto, precision, F1 score y Recall mas elevados.\n",
      "- En la matriz de confusion, es el modelo que mas Verdadero Positivos y Verdadero Negativos ofrece, minimizando asi\n",
      "la cantidad de Falsos Negativos y Falsos Positivos, que son errores.\n"
     ]
    }
   ],
   "source": [
    "print('El modelo seleccionado es:')\n",
    "print('Todos los modelos ofrecen resultados bastante buenos y similares. Sin embargo, la REGRESION LOGISTICA es un poco mejor')\n",
    "print('que el resto:')\n",
    "print('- Ofrece la tasa de acierto, precision, F1 score y Recall mas elevados.')\n",
    "print('- En la matriz de confusion, es el modelo que mas Verdadero Positivos y Verdadero Negativos ofrece, minimizando asi')\n",
    "print('la cantidad de Falsos Negativos y Falsos Positivos, que son errores.')"
   ]
  },
  {
   "cell_type": "markdown",
   "metadata": {},
   "source": [
    "## Pregunta 5 \n",
    "### Aplicación de validación cruzada (2,25 puntos)\n",
    "\n",
    "\n",
    "Realiza una validación cruzada sobre el conjunto de entrenamiento de 5 iteracciones y muestra un array con las evaluaciones obtenidas para cada partición en los modelos de Naive Bayes, Regresión logística y SVM utilizados en el cuaderno de prácticas del bloque tres."
   ]
  },
  {
   "cell_type": "code",
   "execution_count": 8,
   "metadata": {},
   "outputs": [
    {
     "name": "stdout",
     "output_type": "stream",
     "text": [
      "scores NB:\n",
      "[0.92284453 0.91308389 0.92005578 0.91703463 0.9186614 ]\n",
      "scores RL:\n"
     ]
    },
    {
     "name": "stderr",
     "output_type": "stream",
     "text": [
      "C:\\Users\\inima\\anaconda3\\lib\\site-packages\\sklearn\\linear_model\\_logistic.py:763: ConvergenceWarning: lbfgs failed to converge (status=1):\n",
      "STOP: TOTAL NO. of ITERATIONS REACHED LIMIT.\n",
      "\n",
      "Increase the number of iterations (max_iter) or scale the data as shown in:\n",
      "    https://scikit-learn.org/stable/modules/preprocessing.html\n",
      "Please also refer to the documentation for alternative solver options:\n",
      "    https://scikit-learn.org/stable/modules/linear_model.html#logistic-regression\n",
      "  n_iter_i = _check_optimize_result(\n",
      "C:\\Users\\inima\\anaconda3\\lib\\site-packages\\sklearn\\linear_model\\_logistic.py:763: ConvergenceWarning: lbfgs failed to converge (status=1):\n",
      "STOP: TOTAL NO. of ITERATIONS REACHED LIMIT.\n",
      "\n",
      "Increase the number of iterations (max_iter) or scale the data as shown in:\n",
      "    https://scikit-learn.org/stable/modules/preprocessing.html\n",
      "Please also refer to the documentation for alternative solver options:\n",
      "    https://scikit-learn.org/stable/modules/linear_model.html#logistic-regression\n",
      "  n_iter_i = _check_optimize_result(\n",
      "C:\\Users\\inima\\anaconda3\\lib\\site-packages\\sklearn\\linear_model\\_logistic.py:763: ConvergenceWarning: lbfgs failed to converge (status=1):\n",
      "STOP: TOTAL NO. of ITERATIONS REACHED LIMIT.\n",
      "\n",
      "Increase the number of iterations (max_iter) or scale the data as shown in:\n",
      "    https://scikit-learn.org/stable/modules/preprocessing.html\n",
      "Please also refer to the documentation for alternative solver options:\n",
      "    https://scikit-learn.org/stable/modules/linear_model.html#logistic-regression\n",
      "  n_iter_i = _check_optimize_result(\n",
      "C:\\Users\\inima\\anaconda3\\lib\\site-packages\\sklearn\\linear_model\\_logistic.py:763: ConvergenceWarning: lbfgs failed to converge (status=1):\n",
      "STOP: TOTAL NO. of ITERATIONS REACHED LIMIT.\n",
      "\n",
      "Increase the number of iterations (max_iter) or scale the data as shown in:\n",
      "    https://scikit-learn.org/stable/modules/preprocessing.html\n",
      "Please also refer to the documentation for alternative solver options:\n",
      "    https://scikit-learn.org/stable/modules/linear_model.html#logistic-regression\n",
      "  n_iter_i = _check_optimize_result(\n",
      "C:\\Users\\inima\\anaconda3\\lib\\site-packages\\sklearn\\linear_model\\_logistic.py:763: ConvergenceWarning: lbfgs failed to converge (status=1):\n",
      "STOP: TOTAL NO. of ITERATIONS REACHED LIMIT.\n",
      "\n",
      "Increase the number of iterations (max_iter) or scale the data as shown in:\n",
      "    https://scikit-learn.org/stable/modules/preprocessing.html\n",
      "Please also refer to the documentation for alternative solver options:\n",
      "    https://scikit-learn.org/stable/modules/linear_model.html#logistic-regression\n",
      "  n_iter_i = _check_optimize_result(\n"
     ]
    },
    {
     "name": "stdout",
     "output_type": "stream",
     "text": [
      "[0.92865443 0.92865443 0.92516849 0.92981641 0.93562631]\n",
      "scores SVM:\n",
      "[0.92702766 0.92261213 0.92540088 0.9247037  0.93237276]\n"
     ]
    }
   ],
   "source": [
    "\n",
    "from sklearn.model_selection import cross_val_score\n",
    "\n",
    "print('scores NB:')\n",
    "print(cross_val_score(clfrNB,x_train_matrix, y_train, cv=5))\n",
    "print('scores RL:')\n",
    "print(cross_val_score(classifier,x_train_matrix, y_train, cv=5))\n",
    "print('scores SVM:')\n",
    "print(cross_val_score(clfrSVM,x_train_matrix, y_train, cv=5))"
   ]
  },
  {
   "cell_type": "markdown",
   "metadata": {},
   "source": [
    "Ese seria el fin del ejercicio 4."
   ]
  }
 ],
 "metadata": {
  "kernelspec": {
   "display_name": "Python 3 (ipykernel)",
   "language": "python",
   "name": "python3"
  },
  "language_info": {
   "codemirror_mode": {
    "name": "ipython",
    "version": 3
   },
   "file_extension": ".py",
   "mimetype": "text/x-python",
   "name": "python",
   "nbconvert_exporter": "python",
   "pygments_lexer": "ipython3",
   "version": "3.9.7"
  },
  "toc": {
   "base_numbering": 1,
   "nav_menu": {},
   "number_sections": true,
   "sideBar": true,
   "skip_h1_title": false,
   "title_cell": "Table of Contents",
   "title_sidebar": "Contents",
   "toc_cell": false,
   "toc_position": {},
   "toc_section_display": true,
   "toc_window_display": true
  },
  "varInspector": {
   "cols": {
    "lenName": 16,
    "lenType": 16,
    "lenVar": 40
   },
   "kernels_config": {
    "python": {
     "delete_cmd_postfix": "",
     "delete_cmd_prefix": "del ",
     "library": "var_list.py",
     "varRefreshCmd": "print(var_dic_list())"
    },
    "r": {
     "delete_cmd_postfix": ") ",
     "delete_cmd_prefix": "rm(",
     "library": "var_list.r",
     "varRefreshCmd": "cat(var_dic_list()) "
    }
   },
   "types_to_exclude": [
    "module",
    "function",
    "builtin_function_or_method",
    "instance",
    "_Feature"
   ],
   "window_display": false
  }
 },
 "nbformat": 4,
 "nbformat_minor": 2
}
